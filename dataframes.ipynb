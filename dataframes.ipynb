{
 "cells": [
  {
   "cell_type": "code",
   "execution_count": 1,
   "metadata": {
    "collapsed": true
   },
   "outputs": [],
   "source": [
    "import pandas as pd"
   ]
  },
  {
   "cell_type": "code",
   "execution_count": 2,
   "metadata": {
    "collapsed": true
   },
   "outputs": [],
   "source": [
    "agency = pd.read_csv(r'C:\\Users\\Michael\\Desktop\\CE 599 - Final Project\\gtfs\\agency.txt',sep=',')\n",
    "calendar = pd.read_csv(r'C:\\Users\\Michael\\Desktop\\CE 599 - Final Project\\gtfs\\calendar.txt',sep=',')\n",
    "calendar_dates = pd.read_csv(r'C:\\Users\\Michael\\Desktop\\CE 599 - Final Project\\gtfs\\calendar_dates.txt',sep=',')\n",
    "fare_attributes = pd.read_csv(r'C:\\Users\\Michael\\Desktop\\CE 599 - Final Project\\gtfs\\fare_attributes.txt',sep=',')\n",
    "fare_rules = pd.read_csv(r'C:\\Users\\Michael\\Desktop\\CE 599 - Final Project\\gtfs\\fare_rules.txt',sep=',')\n",
    "routes = pd.read_csv(r'C:\\Users\\Michael\\Desktop\\CE 599 - Final Project\\gtfs\\routes.txt',sep=',')\n",
    "shapes = pd.read_csv(r'C:\\Users\\Michael\\Desktop\\CE 599 - Final Project\\gtfs\\shapes.txt',sep=',')\n",
    "stop_times = pd.read_csv(r'C:\\Users\\Michael\\Desktop\\CE 599 - Final Project\\gtfs\\stop_times.txt',sep=',')\n",
    "stops = pd.read_csv(r'C:\\Users\\Michael\\Desktop\\CE 599 - Final Project\\gtfs\\stops.txt',sep=',')\n",
    "trips = pd.read_csv(r'C:\\Users\\Michael\\Desktop\\CE 599 - Final Project\\gtfs\\trips.txt',sep=',')"
   ]
  }
 ],
 "metadata": {
  "kernelspec": {
   "display_name": "Python 3",
   "language": "python",
   "name": "python3"
  },
  "language_info": {
   "codemirror_mode": {
    "name": "ipython",
    "version": 3
   },
   "file_extension": ".py",
   "mimetype": "text/x-python",
   "name": "python",
   "nbconvert_exporter": "python",
   "pygments_lexer": "ipython3",
   "version": "3.6.3"
  }
 },
 "nbformat": 4,
 "nbformat_minor": 2
}
